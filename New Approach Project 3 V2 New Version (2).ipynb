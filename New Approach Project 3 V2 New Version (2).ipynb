{
 "cells": [
  {
   "cell_type": "markdown",
   "id": "6a0599c5",
   "metadata": {},
   "source": [
    "\n",
    "## Data 620 - Project 3\n",
    "### Group Members: Layla Quinones,Maliat Islam & Karim Hammoud"
   ]
  },
  {
   "cell_type": "markdown",
   "id": "d6ca00aa",
   "metadata": {},
   "source": [
    "Project 3 - This is a Team Project!\n",
    "\n",
    "Using any of the three classifiers described in chapter 6 of Natural Language Processing with Python, and any features you can think of, build the best name gender classifier you can.\n",
    "\n",
    "Begin by splitting the Names Corpus into three subsets: 500 words for the test set, 500 words for the devtest set, and the remaining 6900 words for the training set. Then, starting with the example name gender classifier, make incremental improvements. Use the dev-test set to check your progress. Once you are satisfied with your classifier check its final performance on the test set.\n",
    "\n",
    "How does the performance on the test set compare to the performance on the dev-test set? Is this what you'd expect?\n",
    "\n",
    "Source: Natural Language Processing with Python, exercise 6.10.2.\n",
    "video link : https://youtu.be/_I14qAi0lwQ"
   ]
  },
  {
   "cell_type": "code",
   "execution_count": 302,
   "id": "e6d6f790",
   "metadata": {},
   "outputs": [
    {
     "name": "stderr",
     "output_type": "stream",
     "text": [
      "[nltk_data] Downloading package names to\n",
      "[nltk_data]     C:\\Users\\malia\\AppData\\Roaming\\nltk_data...\n",
      "[nltk_data]   Package names is already up-to-date!\n"
     ]
    }
   ],
   "source": [
    "# SEETING UP THE LIBRARIES\n",
    "import pandas as pd\n",
    "import matplotlib.pyplot as plt\n",
    "import numpy as np\n",
    "import seaborn as sns\n",
    "import nltk\n",
    "from nltk.corpus import names\n",
    "import random\n",
    "from nltk.classify import apply_features\n",
    "nltk.download('names')\n",
    "import plotly.graph_objs as go"
   ]
  },
  {
   "cell_type": "markdown",
   "id": "21f900b9",
   "metadata": {},
   "source": [
    "### Loading datasets and creating dataframe"
   ]
  },
  {
   "cell_type": "markdown",
   "id": "81b0fe2b",
   "metadata": {},
   "source": [
    "For this project firstly name dataset from NLTK is downloaded.Then it was transformed into a dtaframe"
   ]
  },
  {
   "cell_type": "code",
   "execution_count": 227,
   "id": "b9a49d5b",
   "metadata": {},
   "outputs": [],
   "source": [
    "# Get the names and genders\n",
    "classify_names = ([(name, 'male') for name in names.words('male.txt')] +\n",
    "[(name, 'female') for name in names.words('female.txt')])\n",
    "random.shuffle(classify_names)"
   ]
  },
  {
   "cell_type": "code",
   "execution_count": 228,
   "id": "0116f5ba",
   "metadata": {},
   "outputs": [
    {
     "name": "stdout",
     "output_type": "stream",
     "text": [
      "Total Male: 2943 and Female: 5001 in dataset of size: 7944.\n"
     ]
    }
   ],
   "source": [
    "# count the number of names in each gender\n",
    "Gender_names_g= [g for (n,g) in classify_names]\n",
    "Gender_names_m = Gender_names_g.count('male')\n",
    "Gender_names_f = Gender_names_g.count('female')\n",
    "print(\"Total Male: {} and Female: {} in dataset of size: {}.\".format(Gender_names_m,Gender_names_f,len(Gender_names_g)))"
   ]
  },
  {
   "cell_type": "code",
   "execution_count": 229,
   "id": "294dd9cf",
   "metadata": {},
   "outputs": [
    {
     "data": {
      "text/html": [
       "<div>\n",
       "<style scoped>\n",
       "    .dataframe tbody tr th:only-of-type {\n",
       "        vertical-align: middle;\n",
       "    }\n",
       "\n",
       "    .dataframe tbody tr th {\n",
       "        vertical-align: top;\n",
       "    }\n",
       "\n",
       "    .dataframe thead th {\n",
       "        text-align: right;\n",
       "    }\n",
       "</style>\n",
       "<table border=\"1\" class=\"dataframe\">\n",
       "  <thead>\n",
       "    <tr style=\"text-align: right;\">\n",
       "      <th></th>\n",
       "      <th>name</th>\n",
       "      <th>Gender</th>\n",
       "    </tr>\n",
       "  </thead>\n",
       "  <tbody>\n",
       "    <tr>\n",
       "      <th>0</th>\n",
       "      <td>Cristal</td>\n",
       "      <td>female</td>\n",
       "    </tr>\n",
       "    <tr>\n",
       "      <th>1</th>\n",
       "      <td>Owen</td>\n",
       "      <td>male</td>\n",
       "    </tr>\n",
       "    <tr>\n",
       "      <th>2</th>\n",
       "      <td>Kipp</td>\n",
       "      <td>female</td>\n",
       "    </tr>\n",
       "    <tr>\n",
       "      <th>3</th>\n",
       "      <td>Audrye</td>\n",
       "      <td>female</td>\n",
       "    </tr>\n",
       "    <tr>\n",
       "      <th>4</th>\n",
       "      <td>Stephanus</td>\n",
       "      <td>male</td>\n",
       "    </tr>\n",
       "  </tbody>\n",
       "</table>\n",
       "</div>"
      ],
      "text/plain": [
       "        name  Gender\n",
       "0    Cristal  female\n",
       "1       Owen    male\n",
       "2       Kipp  female\n",
       "3     Audrye  female\n",
       "4  Stephanus    male"
      ]
     },
     "execution_count": 229,
     "metadata": {},
     "output_type": "execute_result"
    }
   ],
   "source": [
    "# Data frame\n",
    "data = pd.DataFrame.from_dict(dict(classify_names), orient='index', columns=['gender']).reset_index()\n",
    "data.columns = 'name', 'Gender' \n",
    "data.head()"
   ]
  },
  {
   "cell_type": "markdown",
   "id": "75546fb9",
   "metadata": {},
   "source": [
    "Base Gender Feature"
   ]
  },
  {
   "cell_type": "code",
   "execution_count": 230,
   "id": "f74c3ddd",
   "metadata": {},
   "outputs": [],
   "source": [
    "def gender_features_base(word):\n",
    "    return {'last_letter': word[-1]}"
   ]
  },
  {
   "cell_type": "code",
   "execution_count": 231,
   "id": "eea874aa",
   "metadata": {},
   "outputs": [
    {
     "data": {
      "text/plain": [
       "{'last_letter': 'n'}"
      ]
     },
     "execution_count": 231,
     "metadata": {},
     "output_type": "execute_result"
    }
   ],
   "source": [
    "gender_features_base('Stefan')"
   ]
  },
  {
   "cell_type": "markdown",
   "id": "aaf82e44",
   "metadata": {},
   "source": [
    "### Adding gender identification features:\n",
    "Male and female names have distinct characteristics such as names ending in a, e, and i are likely to be female, while names ending in k, o, r, s, and t are likely to be male. We have build a classifier to model these differences more precisely. We will look for the last letter of a given name."
   ]
  },
  {
   "cell_type": "code",
   "execution_count": 232,
   "id": "6cba3460",
   "metadata": {},
   "outputs": [
    {
     "name": "stderr",
     "output_type": "stream",
     "text": [
      "C:\\Users\\malia\\Anaconda3\\lib\\site-packages\\ipykernel_launcher.py:12: FutureWarning: The default value of regex will change from True to False in a future version.\n",
      "  if sys.path[0] == '':\n",
      "C:\\Users\\malia\\Anaconda3\\lib\\site-packages\\ipykernel_launcher.py:13: FutureWarning: The default value of regex will change from True to False in a future version.\n",
      "  del sys.path[0]\n",
      "C:\\Users\\malia\\Anaconda3\\lib\\site-packages\\nltk\\tokenize\\sonority_sequencing.py:104: UserWarning: Character not defined in sonority_hierarchy, assigning as vowel: ' '\n",
      "  \" assigning as vowel: '{}'\".format(c)\n"
     ]
    },
    {
     "data": {
      "text/html": [
       "<div>\n",
       "<style scoped>\n",
       "    .dataframe tbody tr th:only-of-type {\n",
       "        vertical-align: middle;\n",
       "    }\n",
       "\n",
       "    .dataframe tbody tr th {\n",
       "        vertical-align: top;\n",
       "    }\n",
       "\n",
       "    .dataframe thead th {\n",
       "        text-align: right;\n",
       "    }\n",
       "</style>\n",
       "<table border=\"1\" class=\"dataframe\">\n",
       "  <thead>\n",
       "    <tr style=\"text-align: right;\">\n",
       "      <th></th>\n",
       "      <th>name</th>\n",
       "      <th>Gender</th>\n",
       "      <th>length</th>\n",
       "      <th>first_letter</th>\n",
       "      <th>last_letter</th>\n",
       "      <th>vowel_last_letter</th>\n",
       "      <th>vowel_first_letter</th>\n",
       "      <th>vowels</th>\n",
       "      <th>consonants</th>\n",
       "      <th>vowel_count</th>\n",
       "      <th>consonant_count</th>\n",
       "      <th>suffix2v</th>\n",
       "      <th>preffix2v</th>\n",
       "      <th>syllables</th>\n",
       "    </tr>\n",
       "  </thead>\n",
       "  <tbody>\n",
       "    <tr>\n",
       "      <th>0</th>\n",
       "      <td>Cristal</td>\n",
       "      <td>female</td>\n",
       "      <td>7</td>\n",
       "      <td>C</td>\n",
       "      <td>l</td>\n",
       "      <td>False</td>\n",
       "      <td>False</td>\n",
       "      <td>ia</td>\n",
       "      <td>Crstl</td>\n",
       "      <td>2</td>\n",
       "      <td>5</td>\n",
       "      <td>al</td>\n",
       "      <td>Cr</td>\n",
       "      <td>2</td>\n",
       "    </tr>\n",
       "    <tr>\n",
       "      <th>1</th>\n",
       "      <td>Owen</td>\n",
       "      <td>male</td>\n",
       "      <td>4</td>\n",
       "      <td>O</td>\n",
       "      <td>n</td>\n",
       "      <td>False</td>\n",
       "      <td>False</td>\n",
       "      <td>e</td>\n",
       "      <td>Own</td>\n",
       "      <td>1</td>\n",
       "      <td>3</td>\n",
       "      <td>en</td>\n",
       "      <td>Ow</td>\n",
       "      <td>1</td>\n",
       "    </tr>\n",
       "    <tr>\n",
       "      <th>2</th>\n",
       "      <td>Kipp</td>\n",
       "      <td>female</td>\n",
       "      <td>4</td>\n",
       "      <td>K</td>\n",
       "      <td>p</td>\n",
       "      <td>False</td>\n",
       "      <td>False</td>\n",
       "      <td>i</td>\n",
       "      <td>Kpp</td>\n",
       "      <td>1</td>\n",
       "      <td>3</td>\n",
       "      <td>pp</td>\n",
       "      <td>Ki</td>\n",
       "      <td>1</td>\n",
       "    </tr>\n",
       "    <tr>\n",
       "      <th>3</th>\n",
       "      <td>Audrye</td>\n",
       "      <td>female</td>\n",
       "      <td>6</td>\n",
       "      <td>A</td>\n",
       "      <td>e</td>\n",
       "      <td>True</td>\n",
       "      <td>False</td>\n",
       "      <td>ue</td>\n",
       "      <td>Adry</td>\n",
       "      <td>2</td>\n",
       "      <td>4</td>\n",
       "      <td>ye</td>\n",
       "      <td>Au</td>\n",
       "      <td>2</td>\n",
       "    </tr>\n",
       "    <tr>\n",
       "      <th>4</th>\n",
       "      <td>Stephanus</td>\n",
       "      <td>male</td>\n",
       "      <td>9</td>\n",
       "      <td>S</td>\n",
       "      <td>s</td>\n",
       "      <td>False</td>\n",
       "      <td>False</td>\n",
       "      <td>eau</td>\n",
       "      <td>Stphns</td>\n",
       "      <td>3</td>\n",
       "      <td>6</td>\n",
       "      <td>us</td>\n",
       "      <td>St</td>\n",
       "      <td>3</td>\n",
       "    </tr>\n",
       "  </tbody>\n",
       "</table>\n",
       "</div>"
      ],
      "text/plain": [
       "        name  Gender  length first_letter last_letter  vowel_last_letter  \\\n",
       "0    Cristal  female       7            C           l              False   \n",
       "1       Owen    male       4            O           n              False   \n",
       "2       Kipp  female       4            K           p              False   \n",
       "3     Audrye  female       6            A           e               True   \n",
       "4  Stephanus    male       9            S           s              False   \n",
       "\n",
       "   vowel_first_letter vowels consonants  vowel_count  consonant_count  \\\n",
       "0               False     ia      Crstl            2                5   \n",
       "1               False      e        Own            1                3   \n",
       "2               False      i        Kpp            1                3   \n",
       "3               False     ue       Adry            2                4   \n",
       "4               False    eau     Stphns            3                6   \n",
       "\n",
       "  suffix2v preffix2v  syllables  \n",
       "0       al        Cr          2  \n",
       "1       en        Ow          1  \n",
       "2       pp        Ki          1  \n",
       "3       ye        Au          2  \n",
       "4       us        St          3  "
      ]
     },
     "execution_count": 232,
     "metadata": {},
     "output_type": "execute_result"
    }
   ],
   "source": [
    "from nltk.tokenize.sonority_sequencing import SyllableTokenizer\n",
    "\n",
    "SSP = SyllableTokenizer()\n",
    "\n",
    "\n",
    "# create various feature columns for exploration\n",
    "data['length'] = data['name'].str.len()\n",
    "data['first_letter'] = data['name'].str[0]\n",
    "data['last_letter'] = data['name'].str[-1]\n",
    "data['vowel_last_letter'] = data['last_letter'].isin([*'aeiou'])\n",
    "data['vowel_first_letter'] = data['first_letter'].isin([*'aeiou'])\n",
    "data['vowels'] = data['name'].str.replace(r'[^aeiou]', '')\n",
    "data['consonants'] = data['name'].str.replace(r'[aeiou]', '')\n",
    "data['vowel_count'] = data['vowels'].str.len()\n",
    "data['consonant_count'] = data['consonants'].str.len()\n",
    "data[\"suffix2v\"]= data['name'].str[-2:]\n",
    "data[\"preffix2v\"]= data['name'].str[:2]\n",
    "data['syllables'] = data['name'].apply(lambda x: len(SSP.tokenize(x)))\n",
    "\n",
    "# preview data\n",
    "data.head()"
   ]
  },
  {
   "cell_type": "markdown",
   "id": "84c72c14",
   "metadata": {},
   "source": [
    "### Assigning data to test set, devtest set and training set:"
   ]
  },
  {
   "cell_type": "code",
   "execution_count": 233,
   "id": "ddd2f404",
   "metadata": {},
   "outputs": [],
   "source": [
    "\n",
    "random.shuffle(classify_names)\n",
    "test_set = classify_names[:500]\n",
    "devtest_set = classify_names[500:1000]   \n",
    "train_set =classify_names[1000:]"
   ]
  },
  {
   "cell_type": "code",
   "execution_count": 234,
   "id": "e3494d1f",
   "metadata": {},
   "outputs": [
    {
     "data": {
      "text/html": [
       "<div>\n",
       "<style scoped>\n",
       "    .dataframe tbody tr th:only-of-type {\n",
       "        vertical-align: middle;\n",
       "    }\n",
       "\n",
       "    .dataframe tbody tr th {\n",
       "        vertical-align: top;\n",
       "    }\n",
       "\n",
       "    .dataframe thead th {\n",
       "        text-align: right;\n",
       "    }\n",
       "</style>\n",
       "<table border=\"1\" class=\"dataframe\">\n",
       "  <thead>\n",
       "    <tr style=\"text-align: right;\">\n",
       "      <th></th>\n",
       "      <th>length</th>\n",
       "      <th>vowel_last_letter</th>\n",
       "      <th>vowel_first_letter</th>\n",
       "      <th>vowel_count</th>\n",
       "      <th>consonant_count</th>\n",
       "      <th>syllables</th>\n",
       "    </tr>\n",
       "    <tr>\n",
       "      <th>Gender</th>\n",
       "      <th></th>\n",
       "      <th></th>\n",
       "      <th></th>\n",
       "      <th></th>\n",
       "      <th></th>\n",
       "      <th></th>\n",
       "    </tr>\n",
       "  </thead>\n",
       "  <tbody>\n",
       "    <tr>\n",
       "      <th>female</th>\n",
       "      <td>6.149126</td>\n",
       "      <td>0.724002</td>\n",
       "      <td>0.0</td>\n",
       "      <td>2.498544</td>\n",
       "      <td>3.650582</td>\n",
       "      <td>2.318220</td>\n",
       "    </tr>\n",
       "    <tr>\n",
       "      <th>male</th>\n",
       "      <td>5.942620</td>\n",
       "      <td>0.237820</td>\n",
       "      <td>0.0</td>\n",
       "      <td>2.050884</td>\n",
       "      <td>3.891736</td>\n",
       "      <td>1.905088</td>\n",
       "    </tr>\n",
       "  </tbody>\n",
       "</table>\n",
       "</div>"
      ],
      "text/plain": [
       "          length  vowel_last_letter  vowel_first_letter  vowel_count  \\\n",
       "Gender                                                                 \n",
       "female  6.149126           0.724002                 0.0     2.498544   \n",
       "male    5.942620           0.237820                 0.0     2.050884   \n",
       "\n",
       "        consonant_count  syllables  \n",
       "Gender                              \n",
       "female         3.650582   2.318220  \n",
       "male           3.891736   1.905088  "
      ]
     },
     "execution_count": 234,
     "metadata": {},
     "output_type": "execute_result"
    }
   ],
   "source": [
    "#### summary statistics\n",
    "data.groupby('Gender').mean()"
   ]
  },
  {
   "cell_type": "markdown",
   "id": "aca6e773",
   "metadata": {},
   "source": [
    "### Visualizing different features:\n",
    "Different features such as name length,peffix,suffix,first and last letters of names on the basis of gender has been visualized."
   ]
  },
  {
   "cell_type": "code",
   "execution_count": 235,
   "id": "a2e90f12",
   "metadata": {},
   "outputs": [],
   "source": [
    "males = data.loc[data.Gender=='male']\n",
    "females = data.loc[data.Gender=='female']"
   ]
  },
  {
   "cell_type": "code",
   "execution_count": 236,
   "id": "dd501ec1",
   "metadata": {},
   "outputs": [
    {
     "name": "stderr",
     "output_type": "stream",
     "text": [
      "C:\\Users\\malia\\Anaconda3\\lib\\site-packages\\ipykernel_launcher.py:1: SettingWithCopyWarning: \n",
      "A value is trying to be set on a copy of a slice from a DataFrame.\n",
      "Try using .loc[row_indexer,col_indexer] = value instead\n",
      "\n",
      "See the caveats in the documentation: https://pandas.pydata.org/pandas-docs/stable/user_guide/indexing.html#returning-a-view-versus-a-copy\n",
      "  \"\"\"Entry point for launching an IPython kernel.\n",
      "C:\\Users\\malia\\Anaconda3\\lib\\site-packages\\ipykernel_launcher.py:2: SettingWithCopyWarning: \n",
      "A value is trying to be set on a copy of a slice from a DataFrame.\n",
      "Try using .loc[row_indexer,col_indexer] = value instead\n",
      "\n",
      "See the caveats in the documentation: https://pandas.pydata.org/pandas-docs/stable/user_guide/indexing.html#returning-a-view-versus-a-copy\n",
      "  \n"
     ]
    }
   ],
   "source": [
    "\n",
    "males['len'] = [len(x) for x in males.name]\n",
    "females['len'] = [len(x) for x in females.name]"
   ]
  },
  {
   "cell_type": "code",
   "execution_count": 237,
   "id": "a3847098",
   "metadata": {},
   "outputs": [],
   "source": [
    "male_names_len = males.len.value_counts().sort_index()\n",
    "female_names_len = females.len.value_counts().sort_index()"
   ]
  },
  {
   "cell_type": "code",
   "execution_count": 238,
   "id": "8c275da7",
   "metadata": {},
   "outputs": [
    {
     "data": {
      "image/png": "[encoded data removed]",
      "text/plain": [
       "<Figure size 1080x432 with 1 Axes>"
      ]
     },
     "metadata": {},
     "output_type": "display_data"
    }
   ],
   "source": [
    "fig,ax = plt.subplots(figsize=[15,6])\n",
    "labels = np.arange(1,10)\n",
    "width=0.35\n",
    "plt.bar(male_names_len.index, male_names_len.values, \n",
    "        width=width, color='teal', label='Male Name Length')\n",
    "plt.bar(female_names_len.index+width, female_names_len.values,\n",
    "        width=width, color='crimson', label='Female Name Length')\n",
    "\n",
    "plt.xlabel('Length of a name')\n",
    "plt.ylabel('Number of names')\n",
    "plt.legend()\n",
    "plt.show()"
   ]
  },
  {
   "cell_type": "code",
   "execution_count": 239,
   "id": "05b24fe6",
   "metadata": {},
   "outputs": [],
   "source": [
    "\n",
    "# Setting up the X and y\n",
    "X = data.drop(columns=['name', 'Gender'])\n",
    "y = data['Gender']"
   ]
  },
  {
   "cell_type": "code",
   "execution_count": 240,
   "id": "02c446cf",
   "metadata": {},
   "outputs": [
    {
     "data": {
      "image/png": "[encoded data removed]",
      "text/plain": [
       "<Figure size 2160x720 with 2 Axes>"
      ]
     },
     "metadata": {},
     "output_type": "display_data"
    }
   ],
   "source": [
    "\n",
    "cat_cols = X.loc[:, [col for col in X.columns if 'gram' not in col]].select_dtypes(include='object').columns\n",
    "num_cols = X.select_dtypes(include=np.number).columns\n",
    "\n",
    "fig, ax = plt.subplots(1, 2, figsize=(30, 10))\n",
    "sns.set(font_scale=2)\n",
    "\n",
    "for var, subplot in zip(cat_cols[:2], ax.flatten()):\n",
    "    sns.countplot(x=var, data=data, ax=subplot, palette=\"dark\")\n",
    "\n",
    "    \n",
    "    for label in subplot.get_xticklabels():\n",
    "        label.set_rotation(90)\n",
    "       \n"
   ]
  },
  {
   "cell_type": "markdown",
   "id": "c9bce68f",
   "metadata": {},
   "source": []
  },
  {
   "cell_type": "code",
   "execution_count": 241,
   "id": "eb671a71",
   "metadata": {},
   "outputs": [
    {
     "name": "stderr",
     "output_type": "stream",
     "text": [
      "C:\\Users\\malia\\Anaconda3\\lib\\site-packages\\seaborn\\axisgrid.py:316: UserWarning: The `size` parameter has been renamed to `height`; please update your code.\n",
      "  warnings.warn(msg, UserWarning)\n",
      "C:\\Users\\malia\\Anaconda3\\lib\\site-packages\\seaborn\\axisgrid.py:643: UserWarning: Using the countplot function without specifying `order` is likely to produce an incorrect plot.\n",
      "  warnings.warn(warning)\n"
     ]
    },
    {
     "data": {
      "image/png": "[encoded data removed]",
      "text/plain": [
       "<Figure size 2897.6x1440 with 2 Axes>"
      ]
     },
     "metadata": {},
     "output_type": "display_data"
    },
    {
     "name": "stderr",
     "output_type": "stream",
     "text": [
      "C:\\Users\\malia\\Anaconda3\\lib\\site-packages\\seaborn\\axisgrid.py:316: UserWarning: The `size` parameter has been renamed to `height`; please update your code.\n",
      "  warnings.warn(msg, UserWarning)\n",
      "C:\\Users\\malia\\Anaconda3\\lib\\site-packages\\seaborn\\axisgrid.py:643: UserWarning: Using the countplot function without specifying `order` is likely to produce an incorrect plot.\n",
      "  warnings.warn(warning)\n"
     ]
    },
    {
     "data": {
      "image/png": "[encoded data removed]",
      "text/plain": [
       "<Figure size 2897.6x1440 with 2 Axes>"
      ]
     },
     "metadata": {},
     "output_type": "display_data"
    }
   ],
   "source": [
    "cond_plot = sns.FacetGrid(data=data, col='Gender', size=20)\n",
    "cond_plot.map(sns.countplot, 'last_letter', color=\"m\").add_legend()\n",
    "plt.tight_layout()\n",
    "plt.show()\n",
    "\n",
    "cond_plot = sns.FacetGrid(data=data, col='Gender', size=20)\n",
    "cond_plot.map(sns.countplot, 'first_letter').add_legend()\n",
    "plt.tight_layout()\n",
    "plt.show()"
   ]
  },
  {
   "cell_type": "markdown",
   "id": "9e08efd8",
   "metadata": {},
   "source": [
    "## Looking at the plot above we can see that the first and last letter can be a good predictive of the gender\n"
   ]
  },
  {
   "cell_type": "code",
   "execution_count": 242,
   "id": "cbedf356",
   "metadata": {},
   "outputs": [
    {
     "name": "stderr",
     "output_type": "stream",
     "text": [
      "C:\\Users\\malia\\Anaconda3\\lib\\site-packages\\seaborn\\categorical.py:3772: UserWarning: catplot is a figure-level function and does not accept target axes. You may wish to try stripplot\n",
      "  warnings.warn(msg, UserWarning)\n",
      "C:\\Users\\malia\\Anaconda3\\lib\\site-packages\\seaborn\\categorical.py:3772: UserWarning: catplot is a figure-level function and does not accept target axes. You may wish to try stripplot\n",
      "  warnings.warn(msg, UserWarning)\n"
     ]
    },
    {
     "data": {
      "image/png": "[encoded data removed]",
      "text/plain": [
       "<Figure size 360x360 with 1 Axes>"
      ]
     },
     "metadata": {},
     "output_type": "display_data"
    },
    {
     "data": {
      "image/png": "[encoded data removed]",
      "text/plain": [
       "<Figure size 360x360 with 1 Axes>"
      ]
     },
     "metadata": {},
     "output_type": "display_data"
    }
   ],
   "source": [
    "\n",
    "# Explore the numarical columns\n",
    "\n",
    "for var, subplot in zip(num_cols, ax.flatten()):\n",
    "    sns.catplot(x='Gender', y=var, data=data, ax=subplot)"
   ]
  },
  {
   "cell_type": "markdown",
   "id": "9b760b09",
   "metadata": {},
   "source": [
    "### Incorporating feautures to the test,train and dev test."
   ]
  },
  {
   "cell_type": "code",
   "execution_count": 243,
   "id": "a7737320",
   "metadata": {},
   "outputs": [],
   "source": [
    "# creating test,devtest, and train names \n",
    "test_names = classify_names[:500]\n",
    "devtest_names = classify_names[500:1000]   \n",
    "train_names =classify_names[1000:]\n",
    "\n",
    "# create the gender features funcion\n",
    "def gender_fe(word):\n",
    "    return {'suffix1': word[-1:],\n",
    "            'suffix2': word[-2:],\n",
    "            'prefix1': word[:1],\n",
    "            'prefix1': word[:2]}\n",
    "\n",
    "train_set = [(gender_fe(n), gender) for (n, gender) in train_names]\n",
    "devtest_set = [(gender_fe(n), gender) for (n, gender) in devtest_names]\n",
    "test_set = [(gender_fe(n), gender) for (n, gender) in test_names]"
   ]
  },
  {
   "cell_type": "markdown",
   "id": "08c09ec5",
   "metadata": {},
   "source": [
    "#### NaiveBayes classifier\n",
    "Accuracy of the naive bayes classifier is checked after incorporating the gender_fe feature."
   ]
  },
  {
   "cell_type": "code",
   "execution_count": 244,
   "id": "514f13c5",
   "metadata": {},
   "outputs": [
    {
     "name": "stdout",
     "output_type": "stream",
     "text": [
      "0.782\n"
     ]
    }
   ],
   "source": [
    "classifier = nltk.NaiveBayesClassifier.train(train_set)\n",
    "print(nltk.classify.accuracy(classifier, devtest_set))"
   ]
  },
  {
   "cell_type": "code",
   "execution_count": 245,
   "id": "cb273aba",
   "metadata": {},
   "outputs": [],
   "source": [
    "# Checking the wrong guesses\n",
    "errors = []\n",
    "for (name, tag) in devtest_names:\n",
    "    guess = classifier.classify(gender_fe(name))\n",
    "    if guess != tag:\n",
    "        errors.append((tag, guess, name))"
   ]
  },
  {
   "cell_type": "code",
   "execution_count": 246,
   "id": "922d2e90",
   "metadata": {},
   "outputs": [
    {
     "name": "stdout",
     "output_type": "stream",
     "text": [
      "correct=female guess=male name=Addis\n",
      "correct=female guess=male name=Adelind\n",
      "correct=female guess=male name=Bev\n",
      "correct=female guess=male name=Bird\n",
      "correct=female guess=male name=Brear\n",
      "correct=female guess=male name=Charlott\n",
      "correct=female guess=male name=Clary\n",
      "correct=female guess=male name=Clem\n",
      "correct=female guess=male name=Cristin\n",
      "correct=female guess=male name=Crystal\n",
      "correct=female guess=male name=Dael\n",
      "correct=female guess=male name=Dido\n",
      "correct=female guess=male name=Doll\n",
      "correct=female guess=male name=Dorit\n",
      "correct=female guess=male name=Doro\n",
      "correct=female guess=male name=Enid\n",
      "correct=female guess=male name=Ester\n",
      "correct=female guess=male name=Flor\n",
      "correct=female guess=male name=Floris\n",
      "correct=female guess=male name=Glynnis\n",
      "correct=female guess=male name=Greer\n",
      "correct=female guess=male name=Gunvor\n",
      "correct=female guess=male name=Hayley\n",
      "correct=female guess=male name=Heather\n",
      "correct=female guess=male name=Ingeberg\n",
      "correct=female guess=male name=Isabeau\n",
      "correct=female guess=male name=Ivy\n",
      "correct=female guess=male name=Jaclin\n",
      "correct=female guess=male name=Jenifer\n",
      "correct=female guess=male name=Jess\n",
      "correct=female guess=male name=Kat\n",
      "correct=female guess=male name=Kelcey\n",
      "correct=female guess=male name=Laurel\n",
      "correct=female guess=male name=Lillis\n",
      "correct=female guess=male name=Maegan\n",
      "correct=female guess=male name=Mellicent\n",
      "correct=female guess=male name=Mirabel\n",
      "correct=female guess=male name=Norean\n",
      "correct=female guess=male name=Oliy\n",
      "correct=female guess=male name=Olwen\n",
      "correct=female guess=male name=Pris\n",
      "correct=female guess=male name=Quinn\n",
      "correct=female guess=male name=Rahel\n",
      "correct=female guess=male name=Rakel\n",
      "correct=female guess=male name=Rivkah\n",
      "correct=female guess=male name=Ruthy\n",
      "correct=female guess=male name=Shaun\n",
      "correct=female guess=male name=Sidoney\n",
      "correct=female guess=male name=Terri-Jo\n",
      "correct=female guess=male name=Teryl\n",
      "correct=female guess=male name=Tracey\n",
      "correct=female guess=male name=Trudey\n",
      "correct=female guess=male name=Vonny\n",
      "correct=female guess=male name=Wandis\n",
      "correct=female guess=male name=Willyt\n",
      "correct=female guess=male name=Windy\n",
      "correct=male guess=female name=Addie\n",
      "correct=male guess=female name=Adrien\n",
      "correct=male guess=female name=Andrea\n",
      "correct=male guess=female name=Angie\n",
      "correct=male guess=female name=Antone\n",
      "correct=male guess=female name=Beale\n",
      "correct=male guess=female name=Bernie\n",
      "correct=male guess=female name=Binky\n",
      "correct=male guess=female name=Carmine\n",
      "correct=male guess=female name=Carsten\n",
      "correct=male guess=female name=Chauncey\n",
      "correct=male guess=female name=Christophe\n",
      "correct=male guess=female name=Dane\n",
      "correct=male guess=female name=Dave\n",
      "correct=male guess=female name=Eddie\n",
      "correct=male guess=female name=Esme\n",
      "correct=male guess=female name=Felix\n",
      "correct=male guess=female name=Georgie\n",
      "correct=male guess=female name=Gere\n",
      "correct=male guess=female name=Guthrie\n",
      "correct=male guess=female name=Harvie\n",
      "correct=male guess=female name=Herrmann\n",
      "correct=male guess=female name=Hewe\n",
      "correct=male guess=female name=Hodge\n",
      "correct=male guess=female name=Jake\n",
      "correct=male guess=female name=Jeromy\n",
      "correct=male guess=female name=Jerri\n",
      "correct=male guess=female name=Johnny\n",
      "correct=male guess=female name=Jonny\n",
      "correct=male guess=female name=Juanita\n",
      "correct=male guess=female name=Kirby\n",
      "correct=male guess=female name=Lanny\n",
      "correct=male guess=female name=Martyn\n",
      "correct=male guess=female name=Monte\n",
      "correct=male guess=female name=Morty\n",
      "correct=male guess=female name=Ollie\n",
      "correct=male guess=female name=Paddie\n",
      "correct=male guess=female name=Patrice\n",
      "correct=male guess=female name=Pennie\n",
      "correct=male guess=female name=Pepe\n",
      "correct=male guess=female name=Pete\n",
      "correct=male guess=female name=Phil\n",
      "correct=male guess=female name=Phillipe\n",
      "correct=male guess=female name=Reilly\n",
      "correct=male guess=female name=Roddy\n",
      "correct=male guess=female name=Stevie\n",
      "correct=male guess=female name=Tann\n",
      "correct=male guess=female name=Timmie\n",
      "correct=male guess=female name=Torre\n",
      "correct=male guess=female name=Virgie\n",
      "correct=male guess=female name=Weslie\n",
      "correct=male guess=female name=Zacherie\n",
      "correct=male guess=female name=Zane\n"
     ]
    }
   ],
   "source": [
    "\n",
    "for (tag, guess, name) in sorted (errors):\n",
    "    print ('correct={} guess={} name={}'.format(tag, guess, name))"
   ]
  },
  {
   "cell_type": "markdown",
   "id": "057396a2",
   "metadata": {},
   "source": [
    "After checking the error a new feature is added to use the vowel presence to identify the gender."
   ]
  },
  {
   "cell_type": "code",
   "execution_count": 247,
   "id": "611044f6",
   "metadata": {},
   "outputs": [],
   "source": [
    "def vowel_ratio(word):\n",
    "    if len(re.findall(r'[aeiouy]', word))/len(word)>= 0.8:\n",
    "        return \".8+\"\n",
    "    elif len(re.findall(r'[aeiouy]', word))/len(word)>= 0.6:\n",
    "        return \"0.6 - 0.8\"\n",
    "    elif len(re.findall(r'[aeiouy]', word))/len(word)>= 0.4:\n",
    "        return \"0.4 - 0.6\"\n",
    "    elif len(re.findall(r'[aeiouy]', word))/len(word)>= 0.2:\n",
    "        return \"0.2 - 0.4\"\n",
    "    else: \n",
    "        return \"< 0.2\""
   ]
  },
  {
   "cell_type": "code",
   "execution_count": 248,
   "id": "5d139b22",
   "metadata": {},
   "outputs": [],
   "source": [
    "#create a dataframe\n",
    "names = []\n",
    "for (name, gender) in train_names:\n",
    "    names.append(name)\n",
    "\n",
    "df = pd.DataFrame(names)"
   ]
  },
  {
   "cell_type": "code",
   "execution_count": 249,
   "id": "165ea228",
   "metadata": {},
   "outputs": [],
   "source": [
    "\n",
    "#loop through and create a new column\n",
    "length = []\n",
    "for row in df[0]:\n",
    "    length.append(len(row))\n",
    "\n",
    "df['length'] = length"
   ]
  },
  {
   "cell_type": "code",
   "execution_count": 250,
   "id": "9fae1a4e",
   "metadata": {},
   "outputs": [
    {
     "name": "stdout",
     "output_type": "stream",
     "text": [
      "length    4.0\n",
      "Name: 0.1, dtype: float64 length    8.0\n",
      "Name: 0.9, dtype: float64\n"
     ]
    }
   ],
   "source": [
    "\n",
    "top_10p = df.quantile(0.9)\n",
    "bottom_10p = df.quantile(0.1)\n",
    "print (bottom_10p, top_10p)"
   ]
  },
  {
   "cell_type": "code",
   "execution_count": 251,
   "id": "03f91813",
   "metadata": {},
   "outputs": [],
   "source": [
    "def word_length(word):\n",
    "    if len(word) > 8:\n",
    "        return \">8\"\n",
    "    elif len(word) < 4:\n",
    "        return \"<4\"\n",
    "    else: \n",
    "        return \"4-8\""
   ]
  },
  {
   "cell_type": "code",
   "execution_count": 252,
   "id": "d86f43d4",
   "metadata": {},
   "outputs": [],
   "source": [
    "def gender_features(word):\n",
    "    return {'vowels' : word_length(word)}"
   ]
  },
  {
   "cell_type": "code",
   "execution_count": 253,
   "id": "6a8de8a4",
   "metadata": {},
   "outputs": [],
   "source": [
    "\n",
    "train_set = [(gender_features(n), gender) for (n, gender) in train_names]\n",
    "devtest_set = [(gender_features(n), gender) for (n, gender) in devtest_names]\n",
    "test_set = [(gender_features(n), gender) for (n, gender) in test_names]"
   ]
  },
  {
   "cell_type": "code",
   "execution_count": 254,
   "id": "3037ffa6",
   "metadata": {},
   "outputs": [
    {
     "name": "stdout",
     "output_type": "stream",
     "text": [
      "0.624\n"
     ]
    }
   ],
   "source": [
    "classifier = nltk.NaiveBayesClassifier.train(train_set)\n",
    "print(nltk.classify.accuracy(classifier, devtest_set))"
   ]
  },
  {
   "cell_type": "code",
   "execution_count": 255,
   "id": "791d782a",
   "metadata": {},
   "outputs": [
    {
     "name": "stdout",
     "output_type": "stream",
     "text": [
      "Most Informative Features\n",
      "                  vowels = '<4'             male : female =      2.0 : 1.0\n",
      "                  vowels = '>8'           female : male   =      1.4 : 1.0\n",
      "                  vowels = '4-8'          female : male   =      1.0 : 1.0\n",
      "None\n"
     ]
    }
   ],
   "source": [
    "\n",
    "#I didn't dfind this to improve the model so it is excluded from below\n",
    "print (classifier.show_most_informative_features(5))"
   ]
  },
  {
   "cell_type": "markdown",
   "id": "8d5306b3",
   "metadata": {},
   "source": [
    "As the accuracy score was lower than before a new feature is introduced which incorporates the suffix 1,2,3, prefix 1,2,3 and vowels."
   ]
  },
  {
   "cell_type": "code",
   "execution_count": 256,
   "id": "503479de",
   "metadata": {},
   "outputs": [],
   "source": [
    "#This was my best model so far\n",
    "\n",
    "def gender_features(word):\n",
    "    return {'suffix1': word[-1:],\n",
    "            'suffix2': word[-2:],\n",
    "            'suffix3': word[-3:],\n",
    "            'prefix1': word[:1],\n",
    "            'prefix2': word[:2],\n",
    "            'prefix3': word[:3],\n",
    "            'vowels' : vowel_ratio(word)}"
   ]
  },
  {
   "cell_type": "markdown",
   "id": "7edf2108",
   "metadata": {},
   "source": [
    "The naive bayes model has a better score of 0.83 with the application of gender_features model."
   ]
  },
  {
   "cell_type": "code",
   "execution_count": 257,
   "id": "cca5ed13",
   "metadata": {},
   "outputs": [],
   "source": [
    "import re\n",
    "re.compile('<title>(.*)</title>')\n",
    "\n",
    "train_set = [(gender_features(n), gender) for (n, gender) in train_names]\n",
    "devtest_set = [(gender_features(n), gender) for (n, gender) in devtest_names]\n",
    "test_set = [(gender_features(n), gender) for (n, gender) in test_names]"
   ]
  },
  {
   "cell_type": "code",
   "execution_count": 314,
   "id": "08fb6d6d",
   "metadata": {},
   "outputs": [
    {
     "name": "stdout",
     "output_type": "stream",
     "text": [
      "0.8767281105990783\n"
     ]
    }
   ],
   "source": [
    "classifier = nltk.NaiveBayesClassifier.train(train_set)\n",
    "print(nltk.classify.accuracy(classifier, train_set))"
   ]
  },
  {
   "cell_type": "code",
   "execution_count": 258,
   "id": "a3fcebec",
   "metadata": {},
   "outputs": [
    {
     "name": "stdout",
     "output_type": "stream",
     "text": [
      "0.832\n"
     ]
    }
   ],
   "source": [
    "classifier = nltk.NaiveBayesClassifier.train(train_set)\n",
    "print(nltk.classify.accuracy(classifier, devtest_set))"
   ]
  },
  {
   "cell_type": "code",
   "execution_count": 312,
   "id": "b3a85c30",
   "metadata": {},
   "outputs": [
    {
     "name": "stdout",
     "output_type": "stream",
     "text": [
      "0.82\n"
     ]
    }
   ],
   "source": [
    "classifier = nltk.NaiveBayesClassifier.train(train_set)\n",
    "print(nltk.classify.accuracy(classifier, test_set))"
   ]
  },
  {
   "cell_type": "markdown",
   "id": "4007e587",
   "metadata": {},
   "source": []
  },
  {
   "cell_type": "code",
   "execution_count": 259,
   "id": "4a149648",
   "metadata": {},
   "outputs": [
    {
     "name": "stdout",
     "output_type": "stream",
     "text": [
      "Most Informative Features\n",
      "                 suffix2 = 'na'           female : male   =     94.3 : 1.0\n",
      "                 suffix2 = 'la'           female : male   =     71.1 : 1.0\n",
      "                 suffix1 = 'k'              male : female =     39.9 : 1.0\n",
      "                 suffix2 = 'ia'           female : male   =     38.0 : 1.0\n",
      "                 suffix2 = 'ld'             male : female =     35.1 : 1.0\n",
      "                 suffix1 = 'a'            female : male   =     33.4 : 1.0\n",
      "                 suffix2 = 'rt'             male : female =     32.5 : 1.0\n",
      "                 suffix2 = 'sa'           female : male   =     31.7 : 1.0\n",
      "                 suffix2 = 'ta'           female : male   =     30.3 : 1.0\n",
      "                 suffix2 = 'rd'             male : female =     28.9 : 1.0\n",
      "None\n"
     ]
    }
   ],
   "source": [
    "print (classifier.show_most_informative_features(10))\n"
   ]
  },
  {
   "cell_type": "code",
   "execution_count": 260,
   "id": "b2ac5954",
   "metadata": {},
   "outputs": [
    {
     "name": "stdout",
     "output_type": "stream",
     "text": [
      "correct=female guess=male name=Adelind\n",
      "correct=female guess=male name=Bev\n",
      "correct=female guess=male name=Bird\n",
      "correct=female guess=male name=Brear\n",
      "correct=female guess=male name=Charlott\n",
      "correct=female guess=male name=Clem\n",
      "correct=female guess=male name=Cristin\n",
      "correct=female guess=male name=Dael\n",
      "correct=female guess=male name=Dido\n",
      "correct=female guess=male name=Doro\n",
      "correct=female guess=male name=Effie\n",
      "correct=female guess=male name=Elke\n",
      "correct=female guess=male name=Enid\n",
      "correct=female guess=male name=Ester\n",
      "correct=female guess=male name=Flor\n",
      "correct=female guess=male name=Gigi\n",
      "correct=female guess=male name=Glynnis\n",
      "correct=female guess=male name=Greer\n",
      "correct=female guess=male name=Gunvor\n",
      "correct=female guess=male name=Hayley\n",
      "correct=female guess=male name=Heather\n",
      "correct=female guess=male name=Ingeberg\n",
      "correct=female guess=male name=Isabeau\n",
      "correct=female guess=male name=Ivy\n",
      "correct=female guess=male name=Jess\n",
      "correct=female guess=male name=Konstance\n",
      "correct=female guess=male name=Mellicent\n",
      "correct=female guess=male name=Norean\n",
      "correct=female guess=male name=Olive\n",
      "correct=female guess=male name=Oliy\n",
      "correct=female guess=male name=Olwen\n",
      "correct=female guess=male name=Pris\n",
      "correct=female guess=male name=Quinn\n",
      "correct=female guess=male name=Rahel\n",
      "correct=female guess=male name=Rakel\n",
      "correct=female guess=male name=Ruthy\n",
      "correct=female guess=male name=Sidoney\n",
      "correct=female guess=male name=Terri-Jo\n",
      "correct=female guess=male name=Tracey\n",
      "correct=female guess=male name=Wandis\n",
      "correct=female guess=male name=Willyt\n",
      "correct=female guess=male name=Windy\n",
      "correct=male guess=female name=Addie\n",
      "correct=male guess=female name=Adrien\n",
      "correct=male guess=female name=Agamemnon\n",
      "correct=male guess=female name=Andrea\n",
      "correct=male guess=female name=Angie\n",
      "correct=male guess=female name=Antone\n",
      "correct=male guess=female name=Beale\n",
      "correct=male guess=female name=Bernie\n",
      "correct=male guess=female name=Carmine\n",
      "correct=male guess=female name=Carsten\n",
      "correct=male guess=female name=Chauncey\n",
      "correct=male guess=female name=Dane\n",
      "correct=male guess=female name=Daniel\n",
      "correct=male guess=female name=Eddie\n",
      "correct=male guess=female name=Esme\n",
      "correct=male guess=female name=Felix\n",
      "correct=male guess=female name=Gay\n",
      "correct=male guess=female name=Georgie\n",
      "correct=male guess=female name=Gere\n",
      "correct=male guess=female name=Guthrie\n",
      "correct=male guess=female name=Harvie\n",
      "correct=male guess=female name=Jeromy\n",
      "correct=male guess=female name=Jerri\n",
      "correct=male guess=female name=Jonny\n",
      "correct=male guess=female name=Juanita\n",
      "correct=male guess=female name=Kirby\n",
      "correct=male guess=female name=Lanny\n",
      "correct=male guess=female name=Martyn\n",
      "correct=male guess=female name=Monte\n",
      "correct=male guess=female name=Morty\n",
      "correct=male guess=female name=Nicky\n",
      "correct=male guess=female name=Ollie\n",
      "correct=male guess=female name=Patrice\n",
      "correct=male guess=female name=Pennie\n",
      "correct=male guess=female name=Pete\n",
      "correct=male guess=female name=Phil\n",
      "correct=male guess=female name=Reilly\n",
      "correct=male guess=female name=Stevie\n",
      "correct=male guess=female name=Tann\n",
      "correct=male guess=female name=Timmie\n",
      "correct=male guess=female name=Virgie\n",
      "correct=male guess=female name=Zane\n"
     ]
    }
   ],
   "source": [
    "#error check\n",
    "errors = []\n",
    "for (name, tag) in devtest_names:\n",
    "    guess = classifier.classify(gender_features(name))\n",
    "    if guess != tag:\n",
    "        errors.append((tag, guess, name))\n",
    "        \n",
    "for (tag, guess, name) in sorted (errors):\n",
    "    print ('correct={} guess={} name={}'.format(tag, guess, name))"
   ]
  },
  {
   "cell_type": "code",
   "execution_count": 261,
   "id": "41c50540",
   "metadata": {},
   "outputs": [
    {
     "data": {
      "text/plain": [
       "'male'"
      ]
     },
     "execution_count": 261,
     "metadata": {},
     "output_type": "execute_result"
    }
   ],
   "source": [
    "classifier.classify(gender_features('Leo'))\n"
   ]
  },
  {
   "cell_type": "code",
   "execution_count": 262,
   "id": "cbf5455a",
   "metadata": {},
   "outputs": [
    {
     "data": {
      "text/plain": [
       "'female'"
      ]
     },
     "execution_count": 262,
     "metadata": {},
     "output_type": "execute_result"
    }
   ],
   "source": [
    "classifier.classify(gender_features('Anna'))"
   ]
  },
  {
   "cell_type": "markdown",
   "id": "f480df7b",
   "metadata": {},
   "source": [
    "### Decision Tree"
   ]
  },
  {
   "cell_type": "markdown",
   "id": "4e01d288",
   "metadata": {},
   "source": [
    "####  We will check the application of different features in the performance of the DecisionTree model in predicting gender."
   ]
  },
  {
   "cell_type": "markdown",
   "id": "15c2d311",
   "metadata": {},
   "source": [
    "with the gender_fe feature the accuracy score is 0.72. gender_features and gender_features1 model is also implemented. The model performed well with the gender_features which incorporated the preffix,suffix and vowels."
   ]
  },
  {
   "cell_type": "code",
   "execution_count": 264,
   "id": "6dcc6418",
   "metadata": {},
   "outputs": [
    {
     "name": "stdout",
     "output_type": "stream",
     "text": [
      "0.72\n"
     ]
    }
   ],
   "source": [
    "classifier1 = nltk.DecisionTreeClassifier.train(train_set)\n",
    "print(nltk.classify.accuracy(classifier1, devtest_set))"
   ]
  },
  {
   "cell_type": "code",
   "execution_count": 311,
   "id": "be527c1f",
   "metadata": {},
   "outputs": [
    {
     "name": "stdout",
     "output_type": "stream",
     "text": [
      "0.726\n"
     ]
    }
   ],
   "source": [
    "classifier1 = nltk.DecisionTreeClassifier.train(train_set)\n",
    "print(nltk.classify.accuracy(classifier1, test_set))"
   ]
  },
  {
   "cell_type": "code",
   "execution_count": 265,
   "id": "f8fab579",
   "metadata": {},
   "outputs": [],
   "source": [
    "# Checking the wrong guesses\n",
    "errors = []\n",
    "for (name, tag) in devtest_names:\n",
    "    guess = classifier1.classify(gender_fe(name))\n",
    "    if guess != tag:\n",
    "        errors.append((tag, guess, name))"
   ]
  },
  {
   "cell_type": "code",
   "execution_count": 266,
   "id": "30c9cbf9",
   "metadata": {},
   "outputs": [
    {
     "name": "stdout",
     "output_type": "stream",
     "text": [
      "correct=male guess=female name=Adam\n",
      "correct=male guess=female name=Addie\n",
      "correct=male guess=female name=Adolfo\n",
      "correct=male guess=female name=Adrian\n",
      "correct=male guess=female name=Adrien\n",
      "correct=male guess=female name=Agamemnon\n",
      "correct=male guess=female name=Alastair\n",
      "correct=male guess=female name=Alden\n",
      "correct=male guess=female name=Alf\n",
      "correct=male guess=female name=Alford\n",
      "correct=male guess=female name=Alister\n",
      "correct=male guess=female name=Andrea\n",
      "correct=male guess=female name=Angie\n",
      "correct=male guess=female name=Antone\n",
      "correct=male guess=female name=Aram\n",
      "correct=male guess=female name=Archibald\n",
      "correct=male guess=female name=Armando\n",
      "correct=male guess=female name=Ashton\n",
      "correct=male guess=female name=August\n",
      "correct=male guess=female name=Baron\n",
      "correct=male guess=female name=Beale\n",
      "correct=male guess=female name=Berk\n",
      "correct=male guess=female name=Bernie\n",
      "correct=male guess=female name=Bert\n",
      "correct=male guess=female name=Binky\n",
      "correct=male guess=female name=Boris\n",
      "correct=male guess=female name=Brant\n",
      "correct=male guess=female name=Broderic\n",
      "correct=male guess=female name=Burl\n",
      "correct=male guess=female name=Butch\n",
      "correct=male guess=female name=Carmine\n",
      "correct=male guess=female name=Carsten\n",
      "correct=male guess=female name=Chadd\n",
      "correct=male guess=female name=Chauncey\n",
      "correct=male guess=female name=Chip\n",
      "correct=male guess=female name=Christofer\n",
      "correct=male guess=female name=Christophe\n",
      "correct=male guess=female name=Collins\n",
      "correct=male guess=female name=Corwin\n",
      "correct=male guess=female name=Dalton\n",
      "correct=male guess=female name=Dane\n",
      "correct=male guess=female name=Daniel\n",
      "correct=male guess=female name=Dave\n",
      "correct=male guess=female name=Domenico\n",
      "correct=male guess=female name=Doug\n",
      "correct=male guess=female name=Dudley\n",
      "correct=male guess=female name=Eddie\n",
      "correct=male guess=female name=Er\n",
      "correct=male guess=female name=Esme\n",
      "correct=male guess=female name=Ethelbert\n",
      "correct=male guess=female name=Everard\n",
      "correct=male guess=female name=Felix\n",
      "correct=male guess=female name=Foster\n",
      "correct=male guess=female name=Francois\n",
      "correct=male guess=female name=Fyodor\n",
      "correct=male guess=female name=Garwin\n",
      "correct=male guess=female name=Gay\n",
      "correct=male guess=female name=Georgie\n",
      "correct=male guess=female name=Gere\n",
      "correct=male guess=female name=Gerrit\n",
      "correct=male guess=female name=Gershon\n",
      "correct=male guess=female name=Giles\n",
      "correct=male guess=female name=Godfrey\n",
      "correct=male guess=female name=Grover\n",
      "correct=male guess=female name=Guthrie\n",
      "correct=male guess=female name=Hakim\n",
      "correct=male guess=female name=Harvie\n",
      "correct=male guess=female name=Hastings\n",
      "correct=male guess=female name=Hercules\n",
      "correct=male guess=female name=Herrmann\n",
      "correct=male guess=female name=Hewe\n",
      "correct=male guess=female name=Hillel\n",
      "correct=male guess=female name=Hodge\n",
      "correct=male guess=female name=Horatius\n",
      "correct=male guess=female name=Hubert\n",
      "correct=male guess=female name=Hyman\n",
      "correct=male guess=female name=Irwin\n",
      "correct=male guess=female name=Jacques\n",
      "correct=male guess=female name=Jake\n",
      "correct=male guess=female name=Jefry\n",
      "correct=male guess=female name=Jeromy\n",
      "correct=male guess=female name=Jerri\n",
      "correct=male guess=female name=Jess\n",
      "correct=male guess=female name=Jock\n",
      "correct=male guess=female name=Johnny\n",
      "correct=male guess=female name=Jonny\n",
      "correct=male guess=female name=Jordon\n",
      "correct=male guess=female name=Juanita\n",
      "correct=male guess=female name=Kaleb\n",
      "correct=male guess=female name=Ken\n",
      "correct=male guess=female name=Kin\n",
      "correct=male guess=female name=Kirby\n",
      "correct=male guess=female name=Kostas\n",
      "correct=male guess=female name=Kristian\n",
      "correct=male guess=female name=Lanny\n",
      "correct=male guess=female name=Leonhard\n",
      "correct=male guess=female name=Lex\n",
      "correct=male guess=female name=Linus\n",
      "correct=male guess=female name=Mahesh\n",
      "correct=male guess=female name=Marchall\n",
      "correct=male guess=female name=Mark\n",
      "correct=male guess=female name=Martyn\n",
      "correct=male guess=female name=Marv\n",
      "correct=male guess=female name=Marwin\n",
      "correct=male guess=female name=Menard\n",
      "correct=male guess=female name=Mikhail\n",
      "correct=male guess=female name=Milton\n",
      "correct=male guess=female name=Mohamed\n",
      "correct=male guess=female name=Monte\n",
      "correct=male guess=female name=Montgomery\n",
      "correct=male guess=female name=Morgan\n",
      "correct=male guess=female name=Morten\n",
      "correct=male guess=female name=Morty\n",
      "correct=male guess=female name=Niall\n",
      "correct=male guess=female name=Nicky\n",
      "correct=male guess=female name=Noach\n",
      "correct=male guess=female name=Ollie\n",
      "correct=male guess=female name=Orazio\n",
      "correct=male guess=female name=Otto\n",
      "correct=male guess=female name=Owen\n",
      "correct=male guess=female name=Paddie\n",
      "correct=male guess=female name=Park\n",
      "correct=male guess=female name=Pat\n",
      "correct=male guess=female name=Patrice\n",
      "correct=male guess=female name=Pennie\n",
      "correct=male guess=female name=Pepe\n",
      "correct=male guess=female name=Pete\n",
      "correct=male guess=female name=Phil\n",
      "correct=male guess=female name=Phillipe\n",
      "correct=male guess=female name=Pierson\n",
      "correct=male guess=female name=Rad\n",
      "correct=male guess=female name=Ralph\n",
      "correct=male guess=female name=Raoul\n",
      "correct=male guess=female name=Raymund\n",
      "correct=male guess=female name=Reg\n",
      "correct=male guess=female name=Reilly\n",
      "correct=male guess=female name=Renard\n",
      "correct=male guess=female name=Reuben\n",
      "correct=male guess=female name=Reynard\n",
      "correct=male guess=female name=Ric\n",
      "correct=male guess=female name=Rickard\n",
      "correct=male guess=female name=Rodd\n",
      "correct=male guess=female name=Roddy\n",
      "correct=male guess=female name=Rodrick\n",
      "correct=male guess=female name=Roland\n",
      "correct=male guess=female name=Ronald\n",
      "correct=male guess=female name=Rudyard\n",
      "correct=male guess=female name=Salim\n",
      "correct=male guess=female name=Salmon\n",
      "correct=male guess=female name=Saul\n",
      "correct=male guess=female name=Saunders\n",
      "correct=male guess=female name=Saw\n",
      "correct=male guess=female name=Schroeder\n",
      "correct=male guess=female name=Scotty\n",
      "correct=male guess=female name=Shadow\n",
      "correct=male guess=female name=Sherman\n",
      "correct=male guess=female name=Sigfrid\n",
      "correct=male guess=female name=Silvio\n",
      "correct=male guess=female name=Skelly\n",
      "correct=male guess=female name=Stanley\n",
      "correct=male guess=female name=Stevie\n",
      "correct=male guess=female name=Tann\n",
      "correct=male guess=female name=Thatch\n",
      "correct=male guess=female name=Thor\n",
      "correct=male guess=female name=Thorn\n",
      "correct=male guess=female name=Thurstan\n",
      "correct=male guess=female name=Tiler\n",
      "correct=male guess=female name=Timmie\n",
      "correct=male guess=female name=Tomlin\n",
      "correct=male guess=female name=Tommy\n",
      "correct=male guess=female name=Torre\n",
      "correct=male guess=female name=Trent\n",
      "correct=male guess=female name=Trenton\n",
      "correct=male guess=female name=Tyler\n",
      "correct=male guess=female name=Ulrich\n",
      "correct=male guess=female name=Valentin\n",
      "correct=male guess=female name=Vasilis\n",
      "correct=male guess=female name=Vernon\n",
      "correct=male guess=female name=Vincent\n",
      "correct=male guess=female name=Virgie\n",
      "correct=male guess=female name=Wainwright\n",
      "correct=male guess=female name=Wakefield\n",
      "correct=male guess=female name=Wallis\n",
      "correct=male guess=female name=Walsh\n",
      "correct=male guess=female name=Ward\n",
      "correct=male guess=female name=Washington\n",
      "correct=male guess=female name=Way\n",
      "correct=male guess=female name=Waylan\n",
      "correct=male guess=female name=Webb\n",
      "correct=male guess=female name=Weslie\n",
      "correct=male guess=female name=Westley\n",
      "correct=male guess=female name=Whitney\n",
      "correct=male guess=female name=Zachary\n",
      "correct=male guess=female name=Zacherie\n",
      "correct=male guess=female name=Zane\n"
     ]
    }
   ],
   "source": [
    "for (tag, guess, name) in sorted (errors):\n",
    "    print ('correct={} guess={} name={}'.format(tag, guess, name))"
   ]
  },
  {
   "cell_type": "code",
   "execution_count": 267,
   "id": "567e842e",
   "metadata": {},
   "outputs": [],
   "source": [
    "# create the gender features funcion\n",
    "def gender_fe_1(word):\n",
    "    return {'suffix1': word[-1:],\n",
    "            'suffix2': word[-2:],\n",
    "            'prefix1': word[:1],\n",
    "            'prefix1': word[:2]}\n",
    "\n",
    "train_set_1 = [(gender_fe(n), gender) for (n, gender) in train_names]\n",
    "devtest_set_1 = [(gender_fe(n), gender) for (n, gender) in devtest_names]\n",
    "test_set_1 = [(gender_fe(n), gender) for (n, gender) in test_names]"
   ]
  },
  {
   "cell_type": "code",
   "execution_count": 268,
   "id": "5b471664",
   "metadata": {},
   "outputs": [
    {
     "name": "stdout",
     "output_type": "stream",
     "text": [
      "0.738\n"
     ]
    }
   ],
   "source": [
    "classifier_1 = nltk.DecisionTreeClassifier.train(train_set_1)\n",
    "print(nltk.classify.accuracy(classifier_1, devtest_set_1))"
   ]
  },
  {
   "cell_type": "code",
   "execution_count": 269,
   "id": "4cada4a6",
   "metadata": {},
   "outputs": [],
   "source": [
    "\n",
    "def gender_features1(word):\n",
    "    return {'suffix1': word[-1:],\n",
    "            'suffix2': word[-2:],\n",
    "            'suffix3': word[-3:],\n",
    "            'prefix1': word[:1],\n",
    "            'prefix2': word[:2],\n",
    "            'prefix3': word[:3],\n",
    "            'vowels' : vowel_ratio(word)}"
   ]
  },
  {
   "cell_type": "code",
   "execution_count": 270,
   "id": "b36f7d2b",
   "metadata": {},
   "outputs": [],
   "source": [
    "### Implementing the gender_features1\n",
    "random.seed(75)\n",
    "random.shuffle(devtest_set)\n",
    "train_set1 = [(gender_features1(n), gender) for (n, gender) in train_names]\n",
    "devtest_set1 = [(gender_features1(n), gender) for (n, gender) in devtest_names]\n",
    "test_set1 = [(gender_features1(n), gender) for (n, gender) in test_names]"
   ]
  },
  {
   "cell_type": "code",
   "execution_count": 313,
   "id": "0826d096",
   "metadata": {},
   "outputs": [
    {
     "name": "stdout",
     "output_type": "stream",
     "text": [
      "0.9576612903225806\n"
     ]
    }
   ],
   "source": [
    "classifier1 = nltk.DecisionTreeClassifier.train(train_set1)\n",
    "print(nltk.classify.accuracy(classifier1, train_set1))"
   ]
  },
  {
   "cell_type": "code",
   "execution_count": 271,
   "id": "8d01695f",
   "metadata": {},
   "outputs": [
    {
     "name": "stdout",
     "output_type": "stream",
     "text": [
      "0.72\n"
     ]
    }
   ],
   "source": [
    "classifier1 = nltk.DecisionTreeClassifier.train(train_set1)\n",
    "print(nltk.classify.accuracy(classifier1, devtest_set1))"
   ]
  },
  {
   "cell_type": "code",
   "execution_count": 310,
   "id": "d7387c86",
   "metadata": {},
   "outputs": [
    {
     "name": "stdout",
     "output_type": "stream",
     "text": [
      "0.726\n"
     ]
    }
   ],
   "source": [
    "classifier1 = nltk.DecisionTreeClassifier.train(train_set1)\n",
    "print(nltk.classify.accuracy(classifier1, test_set1))"
   ]
  },
  {
   "cell_type": "markdown",
   "id": "de16903b",
   "metadata": {},
   "source": [
    "The devtest has a little lower accuracy in the decision tree model than the test set it is 0.72 vs. 0.73."
   ]
  },
  {
   "cell_type": "code",
   "execution_count": 272,
   "id": "1dfbe15d",
   "metadata": {},
   "outputs": [],
   "source": [
    "# Checking the wrong guesses\n",
    "errors = []\n",
    "for (name, tag) in devtest_names:\n",
    "    guess = classifier1.classify(gender_features1(name))\n",
    "    if guess != tag:\n",
    "        errors.append((tag, guess, name))"
   ]
  },
  {
   "cell_type": "code",
   "execution_count": 273,
   "id": "f7d7763c",
   "metadata": {},
   "outputs": [
    {
     "name": "stdout",
     "output_type": "stream",
     "text": [
      "correct=female guess=male name=Addis\n",
      "correct=female guess=male name=Adelind\n",
      "correct=female guess=male name=Aurore\n",
      "correct=female guess=male name=Bennie\n",
      "correct=female guess=male name=Bird\n",
      "correct=female guess=male name=Brear\n",
      "correct=female guess=male name=Caryl\n",
      "correct=female guess=male name=Ceciley\n",
      "correct=female guess=male name=Charlott\n",
      "correct=female guess=male name=Cherice\n",
      "correct=female guess=male name=Clary\n",
      "correct=female guess=male name=Clem\n",
      "correct=female guess=male name=Cristin\n",
      "correct=female guess=male name=Dael\n",
      "correct=female guess=male name=Dedie\n",
      "correct=female guess=male name=Dido\n",
      "correct=female guess=male name=Doro\n",
      "correct=female guess=male name=Effie\n",
      "correct=female guess=male name=Emogene\n",
      "correct=female guess=male name=Enid\n",
      "correct=female guess=male name=Ester\n",
      "correct=female guess=male name=Flor\n",
      "correct=female guess=male name=Floris\n",
      "correct=female guess=male name=Gigi\n",
      "correct=female guess=male name=Ginny\n",
      "correct=female guess=male name=Gunvor\n",
      "correct=female guess=male name=Gwenny\n",
      "correct=female guess=male name=Hayley\n",
      "correct=female guess=male name=Isabeau\n",
      "correct=female guess=male name=Jonie\n",
      "correct=female guess=male name=Kathie\n",
      "correct=female guess=male name=Kristy\n",
      "correct=female guess=male name=Laurel\n",
      "correct=female guess=male name=Lesly\n",
      "correct=female guess=male name=Lindsay\n",
      "correct=female guess=male name=Maddie\n",
      "correct=female guess=male name=Maddy\n",
      "correct=female guess=male name=Marty\n",
      "correct=female guess=male name=Maxie\n",
      "correct=female guess=male name=Merle\n",
      "correct=female guess=male name=Nixie\n",
      "correct=female guess=male name=Olive\n",
      "correct=female guess=male name=Olwen\n",
      "correct=female guess=male name=Pattie\n",
      "correct=female guess=male name=Pris\n",
      "correct=female guess=male name=Quinn\n",
      "correct=female guess=male name=Rakel\n",
      "correct=female guess=male name=Ruthie\n",
      "correct=female guess=male name=Ruthy\n",
      "correct=female guess=male name=Saudra\n",
      "correct=female guess=male name=Shaun\n",
      "correct=female guess=male name=Sidoney\n",
      "correct=female guess=male name=Suzzy\n",
      "correct=female guess=male name=Tallie\n",
      "correct=female guess=male name=Teddie\n",
      "correct=female guess=male name=Tracey\n",
      "correct=female guess=male name=Vere\n",
      "correct=female guess=male name=Vonny\n",
      "correct=male guess=female name=Adam\n",
      "correct=male guess=female name=Addie\n",
      "correct=male guess=female name=Adrian\n",
      "correct=male guess=female name=Adrien\n",
      "correct=male guess=female name=Alf\n",
      "correct=male guess=female name=Andrea\n",
      "correct=male guess=female name=Antone\n",
      "correct=male guess=female name=August\n",
      "correct=male guess=female name=Bernie\n",
      "correct=male guess=female name=Bert\n",
      "correct=male guess=female name=Burl\n",
      "correct=male guess=female name=Carmine\n",
      "correct=male guess=female name=Carsten\n",
      "correct=male guess=female name=Christofer\n",
      "correct=male guess=female name=Dane\n",
      "correct=male guess=female name=Doug\n",
      "correct=male guess=female name=Eddie\n",
      "correct=male guess=female name=Er\n",
      "correct=male guess=female name=Esme\n",
      "correct=male guess=female name=Gay\n",
      "correct=male guess=female name=Georgie\n",
      "correct=male guess=female name=Gere\n",
      "correct=male guess=female name=Gerrit\n",
      "correct=male guess=female name=Guthrie\n",
      "correct=male guess=female name=Hakim\n",
      "correct=male guess=female name=Harvie\n",
      "correct=male guess=female name=Hewe\n",
      "correct=male guess=female name=Hillel\n",
      "correct=male guess=female name=Jacques\n",
      "correct=male guess=female name=Jefry\n",
      "correct=male guess=female name=Jeromy\n",
      "correct=male guess=female name=Jerri\n",
      "correct=male guess=female name=Jess\n",
      "correct=male guess=female name=Juanita\n",
      "correct=male guess=female name=Ken\n",
      "correct=male guess=female name=Kin\n",
      "correct=male guess=female name=Kirby\n",
      "correct=male guess=female name=Kostas\n",
      "correct=male guess=female name=Lanny\n",
      "correct=male guess=female name=Lex\n",
      "correct=male guess=female name=Mark\n",
      "correct=male guess=female name=Martyn\n",
      "correct=male guess=female name=Monte\n",
      "correct=male guess=female name=Montgomery\n",
      "correct=male guess=female name=Morgan\n",
      "correct=male guess=female name=Morten\n",
      "correct=male guess=female name=Morty\n",
      "correct=male guess=female name=Nicky\n",
      "correct=male guess=female name=Ollie\n",
      "correct=male guess=female name=Otto\n",
      "correct=male guess=female name=Park\n",
      "correct=male guess=female name=Pat\n",
      "correct=male guess=female name=Patrice\n",
      "correct=male guess=female name=Pennie\n",
      "correct=male guess=female name=Pepe\n",
      "correct=male guess=female name=Pete\n",
      "correct=male guess=female name=Phil\n",
      "correct=male guess=female name=Rad\n",
      "correct=male guess=female name=Reg\n",
      "correct=male guess=female name=Reilly\n",
      "correct=male guess=female name=Ric\n",
      "correct=male guess=female name=Saw\n",
      "correct=male guess=female name=Scotty\n",
      "correct=male guess=female name=Shadow\n",
      "correct=male guess=female name=Sigfrid\n",
      "correct=male guess=female name=Silvio\n",
      "correct=male guess=female name=Skelly\n",
      "correct=male guess=female name=Stevie\n",
      "correct=male guess=female name=Tann\n",
      "correct=male guess=female name=Thor\n",
      "correct=male guess=female name=Timmie\n",
      "correct=male guess=female name=Tomlin\n",
      "correct=male guess=female name=Tommy\n",
      "correct=male guess=female name=Vasilis\n",
      "correct=male guess=female name=Vernon\n",
      "correct=male guess=female name=Virgie\n",
      "correct=male guess=female name=Wallis\n",
      "correct=male guess=female name=Way\n",
      "correct=male guess=female name=Webb\n",
      "correct=male guess=female name=Weslie\n",
      "correct=male guess=female name=Whitney\n",
      "correct=male guess=female name=Zane\n"
     ]
    }
   ],
   "source": [
    "for (tag, guess, name) in sorted (errors):\n",
    "    print ('correct={} guess={} name={}'.format(tag, guess, name))"
   ]
  },
  {
   "cell_type": "markdown",
   "id": "5ad0a468",
   "metadata": {},
   "source": [
    "### MaximumEntropy\n",
    "Maximum entropy model performed well aster applying gender_features.The highest accuracy in the training set was 0.93,compared to gender_fe1 which has 0.80."
   ]
  },
  {
   "cell_type": "markdown",
   "id": "8ab0ac30",
   "metadata": {},
   "source": [
    "gender_featrues also performs well in the maximum entropy model."
   ]
  },
  {
   "cell_type": "code",
   "execution_count": 274,
   "id": "1f09585d",
   "metadata": {},
   "outputs": [],
   "source": [
    "def gender_features2(word):\n",
    "    return {'suffix1': word[-1:],\n",
    "            'suffix2': word[-2:],\n",
    "            'suffix3': word[-3:],\n",
    "            'prefix1': word[:1],\n",
    "            'prefix2': word[:2],\n",
    "            'prefix3': word[:3],\n",
    "            'vowels' : vowel_ratio(word)}"
   ]
  },
  {
   "cell_type": "code",
   "execution_count": 275,
   "id": "c2f905f9",
   "metadata": {},
   "outputs": [],
   "source": [
    "### Implementing the gender_features\n",
    "random.seed(75)\n",
    "random.shuffle(devtest_set)\n",
    "train_set2 = [(gender_features2(n), gender) for (n, gender) in train_names]\n",
    "devtest_set2 = [(gender_features2(n), gender) for (n, gender) in devtest_names]\n",
    "test_set2 = [(gender_features2(n), gender) for (n, gender) in test_names]"
   ]
  },
  {
   "cell_type": "code",
   "execution_count": 276,
   "id": "774f42b1",
   "metadata": {},
   "outputs": [
    {
     "name": "stdout",
     "output_type": "stream",
     "text": [
      "  ==> Training (100 iterations)\n",
      "\n",
      "      Iteration    Log Likelihood    Accuracy\n",
      "      ---------------------------------------\n",
      "             1          -0.69315        0.369\n",
      "             2          -0.39903        0.828\n",
      "             3          -0.32576        0.864\n",
      "             4          -0.28878        0.874\n",
      "             5          -0.26581        0.883\n",
      "             6          -0.24971        0.890\n",
      "             7          -0.23751        0.895\n",
      "             8          -0.22780        0.899\n",
      "             9          -0.21979        0.904\n",
      "            10          -0.21300        0.907\n",
      "            11          -0.20713        0.910\n",
      "            12          -0.20198        0.911\n",
      "            13          -0.19741        0.913\n",
      "            14          -0.19331        0.914\n",
      "            15          -0.18960        0.915\n",
      "            16          -0.18622        0.916\n",
      "            17          -0.18312        0.917\n",
      "            18          -0.18027        0.918\n",
      "            19          -0.17763        0.919\n",
      "            20          -0.17519        0.920\n",
      "            21          -0.17290        0.920\n",
      "            22          -0.17077        0.921\n",
      "            23          -0.16877        0.921\n",
      "            24          -0.16689        0.922\n",
      "            25          -0.16512        0.922\n",
      "            26          -0.16344        0.922\n",
      "            27          -0.16186        0.923\n",
      "            28          -0.16036        0.923\n",
      "            29          -0.15893        0.923\n",
      "            30          -0.15757        0.923\n",
      "            31          -0.15628        0.924\n",
      "            32          -0.15505        0.924\n",
      "            33          -0.15387        0.925\n",
      "            34          -0.15274        0.925\n",
      "            35          -0.15166        0.925\n",
      "            36          -0.15062        0.925\n",
      "            37          -0.14963        0.925\n",
      "            38          -0.14867        0.926\n",
      "            39          -0.14775        0.926\n",
      "            40          -0.14687        0.926\n",
      "            41          -0.14601        0.926\n",
      "            42          -0.14519        0.927\n",
      "            43          -0.14439        0.927\n",
      "            44          -0.14363        0.927\n",
      "            45          -0.14289        0.928\n",
      "            46          -0.14217        0.928\n",
      "            47          -0.14147        0.928\n",
      "            48          -0.14080        0.929\n",
      "            49          -0.14015        0.929\n",
      "            50          -0.13952        0.929\n",
      "            51          -0.13890        0.929\n",
      "            52          -0.13831        0.929\n",
      "            53          -0.13773        0.929\n",
      "            54          -0.13717        0.929\n",
      "            55          -0.13662        0.929\n",
      "            56          -0.13609        0.929\n",
      "            57          -0.13557        0.929\n",
      "            58          -0.13507        0.929\n",
      "            59          -0.13458        0.929\n",
      "            60          -0.13410        0.929\n",
      "            61          -0.13364        0.929\n",
      "            62          -0.13318        0.929\n",
      "            63          -0.13274        0.929\n",
      "            64          -0.13231        0.929\n",
      "            65          -0.13188        0.929\n",
      "            66          -0.13147        0.929\n",
      "            67          -0.13107        0.930\n",
      "            68          -0.13068        0.930\n",
      "            69          -0.13029        0.930\n",
      "            70          -0.12991        0.930\n",
      "            71          -0.12955        0.930\n",
      "            72          -0.12919        0.930\n",
      "            73          -0.12884        0.930\n",
      "            74          -0.12849        0.930\n",
      "            75          -0.12815        0.930\n",
      "            76          -0.12782        0.930\n",
      "            77          -0.12750        0.930\n",
      "            78          -0.12718        0.930\n",
      "            79          -0.12687        0.930\n",
      "            80          -0.12657        0.931\n",
      "            81          -0.12627        0.931\n",
      "            82          -0.12598        0.931\n",
      "            83          -0.12569        0.931\n",
      "            84          -0.12541        0.931\n",
      "            85          -0.12513        0.931\n",
      "            86          -0.12486        0.931\n",
      "            87          -0.12459        0.931\n",
      "            88          -0.12433        0.931\n",
      "            89          -0.12407        0.931\n",
      "            90          -0.12382        0.931\n",
      "            91          -0.12357        0.932\n",
      "            92          -0.12333        0.932\n",
      "            93          -0.12309        0.931\n",
      "            94          -0.12285        0.932\n",
      "            95          -0.12262        0.932\n",
      "            96          -0.12239        0.932\n",
      "            97          -0.12217        0.932\n",
      "            98          -0.12195        0.931\n",
      "            99          -0.12173        0.931\n",
      "         Final          -0.12152        0.931\n",
      "train_set:  0.9314516129032258\n",
      "test_set:  0.814\n",
      "devtest_set:  0.808\n"
     ]
    }
   ],
   "source": [
    "mx_entropy = nltk.MaxentClassifier.train(train_set2)\n",
    "\n",
    "print(\"train_set: \", nltk.classify.accuracy(mx_entropy, train_set2))\n",
    "print(\"test_set: \", nltk.classify.accuracy(mx_entropy, test_set2))\n",
    "print(\"devtest_set: \", nltk.classify.accuracy(mx_entropy, devtest_set2))"
   ]
  },
  {
   "cell_type": "code",
   "execution_count": 277,
   "id": "6ab9b93f",
   "metadata": {},
   "outputs": [],
   "source": [
    "\n",
    "# create the gender features funcion\n",
    "def gender_fe1(word):\n",
    "    return {'suffix1': word[-1:],\n",
    "            'suffix2': word[-2:],\n",
    "            'prefix1': word[:1],\n",
    "            'prefix1': word[:2]}\n",
    "\n",
    "train_set3 = [(gender_fe(n), gender) for (n, gender) in train_names]\n",
    "devtest_set3 = [(gender_fe(n), gender) for (n, gender) in devtest_names]\n",
    "test_set3 = [(gender_fe(n), gender) for (n, gender) in test_names]"
   ]
  },
  {
   "cell_type": "code",
   "execution_count": 278,
   "id": "98360e43",
   "metadata": {},
   "outputs": [
    {
     "name": "stdout",
     "output_type": "stream",
     "text": [
      "  ==> Training (100 iterations)\n",
      "\n",
      "      Iteration    Log Likelihood    Accuracy\n",
      "      ---------------------------------------\n",
      "             1          -0.69315        0.369\n",
      "             2          -0.36561        0.812\n",
      "             3          -0.32126        0.827\n",
      "             4          -0.30257        0.831\n",
      "             5          -0.29200        0.834\n",
      "             6          -0.28503        0.835\n",
      "             7          -0.28000        0.836\n",
      "             8          -0.27618        0.837\n",
      "             9          -0.27315        0.839\n",
      "            10          -0.27069        0.839\n",
      "            11          -0.26865        0.839\n",
      "            12          -0.26693        0.839\n",
      "            13          -0.26547        0.840\n",
      "            14          -0.26420        0.840\n",
      "            15          -0.26310        0.840\n",
      "            16          -0.26212        0.840\n",
      "            17          -0.26126        0.840\n",
      "            18          -0.26049        0.840\n",
      "            19          -0.25980        0.840\n",
      "            20          -0.25918        0.840\n",
      "            21          -0.25861        0.840\n",
      "            22          -0.25810        0.840\n",
      "            23          -0.25763        0.840\n",
      "            24          -0.25719        0.840\n",
      "            25          -0.25679        0.840\n",
      "            26          -0.25642        0.840\n",
      "            27          -0.25608        0.840\n",
      "            28          -0.25576        0.840\n",
      "            29          -0.25546        0.840\n",
      "            30          -0.25519        0.840\n",
      "            31          -0.25492        0.840\n",
      "            32          -0.25468        0.840\n",
      "            33          -0.25445        0.840\n",
      "            34          -0.25423        0.840\n",
      "            35          -0.25402        0.840\n",
      "            36          -0.25383        0.840\n",
      "            37          -0.25364        0.840\n",
      "            38          -0.25347        0.840\n",
      "            39          -0.25330        0.840\n",
      "            40          -0.25314        0.840\n",
      "            41          -0.25299        0.840\n",
      "            42          -0.25284        0.840\n",
      "            43          -0.25270        0.840\n",
      "            44          -0.25257        0.840\n",
      "            45          -0.25244        0.840\n",
      "            46          -0.25232        0.840\n",
      "            47          -0.25220        0.840\n",
      "            48          -0.25209        0.840\n",
      "            49          -0.25198        0.840\n",
      "            50          -0.25188        0.840\n",
      "            51          -0.25177        0.840\n",
      "            52          -0.25168        0.840\n",
      "            53          -0.25158        0.840\n",
      "            54          -0.25149        0.840\n",
      "            55          -0.25141        0.840\n",
      "            56          -0.25132        0.840\n",
      "            57          -0.25124        0.840\n",
      "            58          -0.25116        0.840\n",
      "            59          -0.25108        0.840\n",
      "            60          -0.25101        0.840\n",
      "            61          -0.25094        0.840\n",
      "            62          -0.25087        0.840\n",
      "            63          -0.25080        0.840\n",
      "            64          -0.25073        0.840\n",
      "            65          -0.25067        0.840\n",
      "            66          -0.25061        0.840\n",
      "            67          -0.25055        0.840\n",
      "            68          -0.25049        0.840\n",
      "            69          -0.25043        0.840\n",
      "            70          -0.25038        0.840\n",
      "            71          -0.25032        0.840\n",
      "            72          -0.25027        0.840\n",
      "            73          -0.25022        0.840\n",
      "            74          -0.25017        0.840\n",
      "            75          -0.25012        0.840\n",
      "            76          -0.25007        0.840\n",
      "            77          -0.25003        0.840\n",
      "            78          -0.24998        0.840\n",
      "            79          -0.24994        0.840\n",
      "            80          -0.24989        0.840\n",
      "            81          -0.24985        0.840\n",
      "            82          -0.24981        0.840\n",
      "            83          -0.24977        0.840\n",
      "            84          -0.24973        0.840\n",
      "            85          -0.24969        0.840\n",
      "            86          -0.24965        0.840\n",
      "            87          -0.24962        0.840\n",
      "            88          -0.24958        0.840\n",
      "            89          -0.24955        0.840\n",
      "            90          -0.24951        0.840\n",
      "            91          -0.24948        0.840\n",
      "            92          -0.24944        0.840\n",
      "            93          -0.24941        0.840\n",
      "            94          -0.24938        0.840\n",
      "            95          -0.24935        0.840\n",
      "            96          -0.24932        0.840\n",
      "            97          -0.24929        0.840\n",
      "            98          -0.24926        0.840\n",
      "            99          -0.24923        0.840\n",
      "         Final          -0.24920        0.840\n",
      "train_set:  0.8005472350230415\n",
      "test_set:  0.76\n",
      "devtest_set:  0.77\n"
     ]
    }
   ],
   "source": [
    "mx_entropy1 = nltk.MaxentClassifier.train(train_set3)\n",
    "\n",
    "print(\"train_set: \", nltk.classify.accuracy(mx_entropy, train_set3))\n",
    "print(\"test_set: \", nltk.classify.accuracy(mx_entropy, test_set3))\n",
    "print(\"devtest_set: \", nltk.classify.accuracy(mx_entropy, devtest_set3))"
   ]
  },
  {
   "cell_type": "markdown",
   "id": "e5e2e77e",
   "metadata": {},
   "source": [
    "gender_features function yields to better accuracy to the bayes, decision tree and maximum entropy model.It has been vectorized to implement on the decision tree model from the Scikit learn."
   ]
  },
  {
   "cell_type": "code",
   "execution_count": 285,
   "id": "9305bfdf",
   "metadata": {},
   "outputs": [
    {
     "name": "stdout",
     "output_type": "stream",
     "text": [
      "[{'suffix1': 'a', 'suffix2': 'na', 'suffix3': 'nna', 'prefix1': 'A', 'prefix2': 'An', 'prefix3': 'Ann', 'vowels': '0.2 - 0.4'}\n",
      " {'suffix1': 'h', 'suffix2': 'ah', 'suffix3': 'nah', 'prefix1': 'H', 'prefix2': 'Ha', 'prefix3': 'Han', 'vowels': '0.2 - 0.4'}\n",
      " {'suffix1': 'r', 'suffix2': 'er', 'suffix3': 'ter', 'prefix1': 'P', 'prefix2': 'Pe', 'prefix3': 'Pet', 'vowels': '0.4 - 0.6'}\n",
      " {'suffix1': 'n', 'suffix2': 'hn', 'suffix3': 'ohn', 'prefix1': 'J', 'prefix2': 'Jo', 'prefix3': 'Joh', 'vowels': '0.2 - 0.4'}\n",
      " {'suffix1': 'r', 'suffix2': 'ir', 'suffix3': 'mir', 'prefix1': 'V', 'prefix2': 'Vl', 'prefix3': 'Vla', 'vowels': '0.2 - 0.4'}]\n"
     ]
    }
   ],
   "source": [
    "# Vectorize the features function\n",
    "features = np.vectorize(gender_features)\n",
    "print(features([\"Anna\", \"Hannah\", \"Peter\",\"John\",\"Vladmir\"]))"
   ]
  },
  {
   "cell_type": "code",
   "execution_count": 286,
   "id": "75cf150a",
   "metadata": {},
   "outputs": [],
   "source": [
    "df_X = features(data['name'])"
   ]
  },
  {
   "cell_type": "code",
   "execution_count": 287,
   "id": "f29ae971",
   "metadata": {},
   "outputs": [],
   "source": [
    "df_y = data['Gender']"
   ]
  },
  {
   "cell_type": "code",
   "execution_count": 288,
   "id": "95c2b94d",
   "metadata": {},
   "outputs": [
    {
     "name": "stdout",
     "output_type": "stream",
     "text": [
      "  (0, 1)\t1.0\n",
      "  (0, 3)\t1.0\n",
      "  (0, 5)\t1.0\n",
      "  (0, 7)\t1.0\n",
      "  (0, 9)\t1.0\n",
      "  (0, 10)\t1.0\n",
      "  (0, 12)\t1.0\n",
      "  (1, 0)\t1.0\n",
      "  (1, 2)\t1.0\n",
      "  (1, 4)\t1.0\n",
      "  (1, 6)\t1.0\n",
      "  (1, 8)\t1.0\n",
      "  (1, 11)\t1.0\n",
      "  (1, 13)\t1.0\n"
     ]
    }
   ],
   "source": [
    "from sklearn.feature_extraction import DictVectorizer\n",
    " \n",
    "corpus = features([\"Mike\", \"Julia\"])\n",
    "dv = DictVectorizer()\n",
    "dv.fit(corpus)\n",
    "transformed = dv.transform(corpus)\n",
    "print(transformed)"
   ]
  },
  {
   "cell_type": "code",
   "execution_count": 289,
   "id": "c816b09a",
   "metadata": {},
   "outputs": [],
   "source": [
    "from sklearn.model_selection import train_test_split\n",
    "# Train Test Split\n",
    "dfX_train, dfX_test, dfy_train, dfy_test = train_test_split(df_X, df_y, test_size=0.33, random_state=42)"
   ]
  },
  {
   "cell_type": "code",
   "execution_count": 290,
   "id": "483c7a5e",
   "metadata": {},
   "outputs": [
    {
     "data": {
      "text/plain": [
       "array([{'suffix1': 'm', 'suffix2': 'im', 'suffix3': 'rim', 'prefix1': 'K', 'prefix2': 'Ka', 'prefix3': 'Kar', 'vowels': '0.4 - 0.6'},\n",
       "       {'suffix1': 'e', 'suffix2': 'ne', 'suffix3': 'ine', 'prefix1': 'A', 'prefix2': 'Ad', 'prefix3': 'Ada', 'vowels': '0.4 - 0.6'},\n",
       "       {'suffix1': 'f', 'suffix2': 'ff', 'suffix3': 'iff', 'prefix1': 'B', 'prefix2': 'Bi', 'prefix3': 'Bif', 'vowels': '0.2 - 0.4'},\n",
       "       ...,\n",
       "       {'suffix1': 'e', 'suffix2': 'ne', 'suffix3': 'ine', 'prefix1': 'A', 'prefix2': 'Al', 'prefix3': 'Ale', 'vowels': '0.4 - 0.6'},\n",
       "       {'suffix1': 'a', 'suffix2': 'na', 'suffix3': 'ena', 'prefix1': 'A', 'prefix2': 'An', 'prefix3': 'Ann', 'vowels': '0.2 - 0.4'},\n",
       "       {'suffix1': 'a', 'suffix2': 'ra', 'suffix3': 'ora', 'prefix1': 'L', 'prefix2': 'Le', 'prefix3': 'Lea', 'vowels': '0.4 - 0.6'}],\n",
       "      dtype=object)"
      ]
     },
     "execution_count": 290,
     "metadata": {},
     "output_type": "execute_result"
    }
   ],
   "source": [
    "dfX_train"
   ]
  },
  {
   "cell_type": "code",
   "execution_count": 291,
   "id": "0c80f8cb",
   "metadata": {},
   "outputs": [
    {
     "data": {
      "text/plain": [
       "<5077x2978 sparse matrix of type '<class 'numpy.float64'>'\n",
       "\twith 35539 stored elements in Compressed Sparse Row format>"
      ]
     },
     "execution_count": 291,
     "metadata": {},
     "output_type": "execute_result"
    }
   ],
   "source": [
    "dv = DictVectorizer()\n",
    "dv.fit_transform(dfX_train)"
   ]
  },
  {
   "cell_type": "code",
   "execution_count": null,
   "id": "4180e672",
   "metadata": {},
   "outputs": [],
   "source": []
  },
  {
   "cell_type": "code",
   "execution_count": 296,
   "id": "0bf24bd7",
   "metadata": {},
   "outputs": [
    {
     "name": "stdout",
     "output_type": "stream",
     "text": [
      "test:  500\n",
      "devtest:  500\n",
      "train:  6579\n"
     ]
    }
   ],
   "source": [
    "# Shuffle and split:  train, dev-test, test \n",
    "from sklearn.utils import shuffle\n",
    "X,y = shuffle(df_X,df_y)\n",
    "\n",
    "dfX_test, dfX_dev_test, dfX_train = X[:500], X[500:1000], X[1000:]\n",
    "dfy_test, dfy_dev_test, dfy_train = y[:500], y[500:1000], y[1000:]\n",
    "\n",
    "print(\"test: \" , len(dfX_test))\n",
    "print(\"devtest: \", len(dfX_dev_test))\n",
    "print(\"train: \", len(dfX_train))\n"
   ]
  },
  {
   "cell_type": "code",
   "execution_count": 307,
   "id": "f15cb33e",
   "metadata": {},
   "outputs": [
    {
     "name": "stdout",
     "output_type": "stream",
     "text": [
      "[{'suffix1': 'a', 'suffix2': 'ia', 'suffix3': 'lia', 'prefix1': 'J', 'prefix2': 'Ju', 'prefix3': 'Jul', 'vowels': '0.6 - 0.8'}\n",
      " {'suffix1': 'e', 'suffix2': 'ke', 'suffix3': 'ike', 'prefix1': 'M', 'prefix2': 'Mi', 'prefix3': 'Mik', 'vowels': '0.4 - 0.6'}]\n",
      "  (0, 9)\t1.0\n",
      "  (0, 135)\t1.0\n",
      "  (0, 877)\t1.0\n",
      "  (0, 1541)\t1.0\n",
      "  (0, 1674)\t1.0\n",
      "  (0, 2649)\t1.0\n",
      "  (0, 3292)\t1.0\n",
      "  (1, 12)\t1.0\n",
      "  (1, 155)\t1.0\n",
      "  (1, 1032)\t1.0\n",
      "  (1, 1545)\t1.0\n",
      "  (1, 1700)\t1.0\n",
      "  (1, 2518)\t1.0\n",
      "  (1, 3291)\t1.0\n",
      "<class 'scipy.sparse.csr.csr_matrix'>\n",
      "0.0\n",
      "prefix1=M\n"
     ]
    }
   ],
   "source": [
    "# Use vectorizer to transform the features into feature-vectors.\n",
    "from sklearn.feature_extraction import DictVectorizer\n",
    "\n",
    "print(features(['Julia', 'Mike']))\n",
    "\n",
    "# train the vectorizer to know the possible features and values.\n",
    "vectorizer = DictVectorizer()\n",
    "vectorizer.fit(dfX_train)\n",
    "\n",
    "transform = vectorizer.transform(features(['Julia', 'Mike']))\n",
    "print(transform)\n",
    "print(type(transform))\n",
    "print(transform.toarray()[0][12])\n",
    "print(vectorizer.feature_names_[12])"
   ]
  },
  {
   "cell_type": "code",
   "execution_count": 308,
   "id": "663ba6d1",
   "metadata": {},
   "outputs": [
    {
     "data": {
      "text/plain": [
       "DecisionTreeClassifier()"
      ]
     },
     "execution_count": 308,
     "metadata": {},
     "output_type": "execute_result"
    }
   ],
   "source": [
    "###Decision Tree Classifier\n",
    "\n",
    "from sklearn.tree import DecisionTreeClassifier\n",
    "# DT classifier to extract discriminating rules from the features. \n",
    "DT_classifier = DecisionTreeClassifier()\n",
    "\n",
    "DT_classifier.fit(vectorizer.transform(dfX_train), dfy_train)"
   ]
  },
  {
   "cell_type": "code",
   "execution_count": 299,
   "id": "ee917340",
   "metadata": {},
   "outputs": [
    {
     "name": "stdout",
     "output_type": "stream",
     "text": [
      "['male' 'female']\n"
     ]
    }
   ],
   "source": [
    "\n",
    "print(DT_classifier.predict(vectorizer.transform(features([\"Sebastian\", \"Amy\"]))))"
   ]
  },
  {
   "cell_type": "code",
   "execution_count": 300,
   "id": "a817b497",
   "metadata": {},
   "outputs": [
    {
     "name": "stdout",
     "output_type": "stream",
     "text": [
      "Accuracy on training set:  0.9977200182398541\n",
      "Accuracy on dev-test set:  0.83\n",
      "Accuracy on test set:  0.822\n"
     ]
    }
   ],
   "source": [
    "\n",
    "# Accuracy\n",
    "print(\"Accuracy on training set: \", DT_classifier.score(vectorizer.transform(dfX_train), dfy_train))\n",
    "print(\"Accuracy on dev-test set: \",DT_classifier.score(vectorizer.transform(dfX_dev_test), dfy_dev_test))\n",
    "print(\"Accuracy on test set: \",DT_classifier.score(vectorizer.transform(dfX_test), dfy_test))"
   ]
  },
  {
   "cell_type": "markdown",
   "id": "30c54851",
   "metadata": {},
   "source": [
    "The accuracy level in the decision tree model from the Scikit learn is higher than the decision tree model from the nltk. "
   ]
  },
  {
   "cell_type": "markdown",
   "id": "27ea1b04",
   "metadata": {},
   "source": [
    "The training set accuracy is higher than the dev test set and the test set.Decision tree, Naive Bayes and Maximum Entropy models performed well with the training sets. The accuracy level of devtest set and the test set is pretty similar for instance in the decision tree model the test set accuracy is 0.726 and the devtest set is 0.72."
   ]
  }
 ],
 "metadata": {
  "interpreter": {
   "hash": "45e395b6d8d920328b8ed182595e26ab2dd7e7763949f02d881d831a1185dae0"
  },
  "kernelspec": {
   "display_name": "Python 3",
   "language": "python",
   "name": "python3"
  },
  "language_info": {
   "codemirror_mode": {
    "name": "ipython",
    "version": 3
   },
   "file_extension": ".py",
   "mimetype": "text/x-python",
   "name": "python",
   "nbconvert_exporter": "python",
   "pygments_lexer": "ipython3",
   "version": "3.7.10"
  }
 },
 "nbformat": 4,
 "nbformat_minor": 5
}
